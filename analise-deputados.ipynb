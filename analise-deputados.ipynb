{
 "cells": [
  {
   "cell_type": "code",
   "execution_count": 4,
   "metadata": {},
   "outputs": [
    {
     "ename": "ModuleNotFoundError",
     "evalue": "No module named 'pandas'",
     "output_type": "error",
     "traceback": [
      "\u001b[0;31m---------------------------------------------------------------------------\u001b[0m",
      "\u001b[0;31mModuleNotFoundError\u001b[0m                       Traceback (most recent call last)",
      "\u001b[0;32m<ipython-input-4-8dd159b5b9d9>\u001b[0m in \u001b[0;36m<module>\u001b[0;34m\u001b[0m\n\u001b[0;32m----> 1\u001b[0;31m \u001b[0;32mimport\u001b[0m \u001b[0mpandas\u001b[0m \u001b[0;32mas\u001b[0m \u001b[0mpd\u001b[0m\u001b[0;34m\u001b[0m\u001b[0;34m\u001b[0m\u001b[0m\n\u001b[0m\u001b[1;32m      2\u001b[0m \u001b[0;32mimport\u001b[0m \u001b[0mseaborn\u001b[0m \u001b[0;32mas\u001b[0m \u001b[0msns\u001b[0m\u001b[0;34m\u001b[0m\u001b[0;34m\u001b[0m\u001b[0m\n\u001b[1;32m      3\u001b[0m \u001b[0;32mimport\u001b[0m \u001b[0mmatplotlib\u001b[0m\u001b[0;34m.\u001b[0m\u001b[0mpyplot\u001b[0m \u001b[0;32mas\u001b[0m \u001b[0mplt\u001b[0m\u001b[0;34m\u001b[0m\u001b[0;34m\u001b[0m\u001b[0m\n\u001b[1;32m      4\u001b[0m \u001b[0;32mimport\u001b[0m \u001b[0maltair\u001b[0m \u001b[0;32mas\u001b[0m \u001b[0malt\u001b[0m\u001b[0;34m\u001b[0m\u001b[0;34m\u001b[0m\u001b[0m\n",
      "\u001b[0;31mModuleNotFoundError\u001b[0m: No module named 'pandas'"
     ]
    }
   ],
   "source": [
    "\n",
    "import pandas as pd\n",
    "import seaborn as sns\n",
    "import matplotlib.pyplot as plt\n",
    "import altair as alt"
   ]
  },
  {
   "cell_type": "code",
   "execution_count": 3,
   "metadata": {},
   "outputs": [
    {
     "ename": "NameError",
     "evalue": "name 'pd' is not defined",
     "output_type": "error",
     "traceback": [
      "\u001b[0;31m---------------------------------------------------------------------------\u001b[0m",
      "\u001b[0;31mNameError\u001b[0m                                 Traceback (most recent call last)",
      "\u001b[0;32m<ipython-input-3-e24dfa0aa23a>\u001b[0m in \u001b[0;36m<module>\u001b[0;34m\u001b[0m\n\u001b[0;32m----> 1\u001b[0;31m \u001b[0mdf_dados_deputados\u001b[0m \u001b[0;34m=\u001b[0m \u001b[0mpd\u001b[0m\u001b[0;34m.\u001b[0m\u001b[0mread_csv\u001b[0m\u001b[0;34m(\u001b[0m\u001b[0;34m'gastos-deputados.csv'\u001b[0m\u001b[0;34m,\u001b[0m \u001b[0msep\u001b[0m\u001b[0;34m=\u001b[0m\u001b[0;34m';'\u001b[0m\u001b[0;34m)\u001b[0m\u001b[0;34m\u001b[0m\u001b[0;34m\u001b[0m\u001b[0m\n\u001b[0m",
      "\u001b[0;31mNameError\u001b[0m: name 'pd' is not defined"
     ]
    }
   ],
   "source": [
    "df_dados_deputados = pd.read_csv('gastos-deputados.csv', sep=';')\n"
   ]
  },
  {
   "cell_type": "code",
   "execution_count": null,
   "metadata": {},
   "outputs": [],
   "source": [
    "df_dados_deputados.tail()"
   ]
  },
  {
   "cell_type": "code",
   "execution_count": null,
   "metadata": {},
   "outputs": [],
   "source": [
    "df_dados_deputados.describe()"
   ]
  },
  {
   "cell_type": "code",
   "execution_count": null,
   "metadata": {},
   "outputs": [],
   "source": [
    "# quantidade de candidatos por UF;\n",
    "# quantidade de candidatos por partido, visão geral;\n",
    "# comparação da quantidade de candidatos por partido dos anos da base anteriores a 2016;\n",
    "# Top 5 estados que gastam mais com vlr do documento;\n",
    "# TOP 5 descrições que possuem mais candidatos;\n",
    "# contagem das descrições de atividades que mais gastam com vlr liquido e valor documento. Não contar com valores nulos."
   ]
  },
  {
   "cell_type": "code",
   "execution_count": null,
   "metadata": {},
   "outputs": [],
   "source": [
    "# quantidade de candidatos por UF;\n",
    "df_dados_deputados.drop_duplicates()\n",
    "contagem_uf = df_dados_deputados[['ideCadastro', 'sgUF']].groupby('sgUF', as_index=False).count()\n",
    "contagem_uf = contagem_uf.sort_values('ideCadastro', ascending=False)\n",
    "contagem_uf"
   ]
  },
  {
   "cell_type": "code",
   "execution_count": null,
   "metadata": {},
   "outputs": [],
   "source": [
    "alt.Chart(contagem_uf, title=\"Qtd de candidatos por estado\").mark_bar().encode(\n",
    "    y = alt.X('ideCadastro', title='Quantidade de candidatos'),\n",
    "    x = alt.Y('sgUF', title='Estados'),\n",
    "    color = alt.Color('sgUF', legend=None)\n",
    ").interactive()"
   ]
  },
  {
   "cell_type": "code",
   "execution_count": null,
   "metadata": {},
   "outputs": [],
   "source": [
    "# quantidade de candidatos por partido, visão geral;\n",
    "candidatos_partido = df_dados_deputados.groupby('sgPartido').count()[['ideCadastro']]\n",
    "candidatos_partido['ideCadastro'].astype('int32').dtypes\n",
    "candidatos_partido = candidatos_partido.sort_values('ideCadastro', ascending=False).reset_index()\n",
    "candidatos_partido"
   ]
  },
  {
   "cell_type": "code",
   "execution_count": null,
   "metadata": {},
   "outputs": [],
   "source": [
    "alt.Chart(candidatos_partido, title='Qtd de candidatos por partido').mark_line(opacity=0.8,color='#FA5618').encode(\n",
    "    x = alt.X('sgPartido', title='Partido'),\n",
    "    y = alt.Y('ideCadastro', title='Quantidade de candidatos')\n",
    ").interactive()"
   ]
  },
  {
   "cell_type": "code",
   "execution_count": null,
   "metadata": {},
   "outputs": [],
   "source": [
    "# comparação da quantidade de candidatos por partido dos anos da base anteriores a 2016\n",
    "df_deputados_menores_2016 = df_dados_deputados[df_dados_deputados['nuLegislatura'] <= 2016]\n",
    "contagem_partidos_menor_2016 = df_deputados_menores_2016.groupby('sgPartido').count()[['ideCadastro']]\n",
    "contagem_partidos_menor_2016 = contagem_partidos_menor_2016.sort_values('ideCadastro', ascending=False).reset_index()\n",
    "contagem_partidos_menor_2016"
   ]
  },
  {
   "cell_type": "code",
   "execution_count": null,
   "metadata": {},
   "outputs": [],
   "source": [
    "alt.Chart(contagem_partidos_menor_2016).mark_line(color='red').encode(\n",
    "    x = alt.X('sgPartido', title='Partido'),\n",
    "    y = alt.Y('ideCadastro', title='Qtd')\n",
    ").interactive()"
   ]
  },
  {
   "cell_type": "code",
   "execution_count": null,
   "metadata": {},
   "outputs": [],
   "source": [
    "# Top 5 estados que gastam mais com vlr do documento;\n",
    "contagem_vlr_documento_estados = df_dados_deputados.groupby('sgUF').count()[['vlrDocumento']]\n",
    "contagem_vlr_documento_estados.sort_values('vlrDocumento', ascending=False).head()"
   ]
  },
  {
   "cell_type": "code",
   "execution_count": null,
   "metadata": {},
   "outputs": [],
   "source": [
    "# TOP 5 descrições que possuem mais candidatos;\n",
    "descricoes_por_candidatos = df_dados_deputados.groupby('txtDescricao').count()[['ideCadastro']]\n",
    "descricoes_por_candidatos = descricoes_por_candidatos.rename(columns={'ideCadastro': 'quantidade_candidatos'}).sort_values('quantidade_candidatos', ascending=False).head()\n",
    "descricoes_por_candidatos = descricoes_por_candidatos.reset_index()\n",
    "descricoes_por_candidatos"
   ]
  },
  {
   "cell_type": "code",
   "execution_count": 2,
   "metadata": {},
   "outputs": [
    {
     "ename": "NameError",
     "evalue": "name 'df_dados_deputados' is not defined",
     "output_type": "error",
     "traceback": [
      "\u001b[0;31m---------------------------------------------------------------------------\u001b[0m",
      "\u001b[0;31mNameError\u001b[0m                                 Traceback (most recent call last)",
      "\u001b[0;32m<ipython-input-2-91bea1690008>\u001b[0m in \u001b[0;36m<module>\u001b[0;34m\u001b[0m\n\u001b[1;32m      1\u001b[0m \u001b[0;31m# contagem das descrições de atividades que mais gastam com vlr liquido e valor documento\u001b[0m\u001b[0;34m\u001b[0m\u001b[0;34m\u001b[0m\u001b[0;34m\u001b[0m\u001b[0m\n\u001b[0;32m----> 2\u001b[0;31m \u001b[0mdescricoes_por_valor_liquido\u001b[0m \u001b[0;34m=\u001b[0m \u001b[0mdf_dados_deputados\u001b[0m\u001b[0;34m.\u001b[0m\u001b[0mgroupby\u001b[0m\u001b[0;34m(\u001b[0m\u001b[0;34m'txtDescricao'\u001b[0m\u001b[0;34m)\u001b[0m\u001b[0;34m.\u001b[0m\u001b[0msum\u001b[0m\u001b[0;34m(\u001b[0m\u001b[0;34m)\u001b[0m\u001b[0;34m[\u001b[0m\u001b[0;34m[\u001b[0m\u001b[0;34m'vlrLiquido'\u001b[0m\u001b[0;34m,\u001b[0m \u001b[0;34m'vlrDocumento'\u001b[0m\u001b[0;34m]\u001b[0m\u001b[0;34m]\u001b[0m\u001b[0;34m\u001b[0m\u001b[0;34m\u001b[0m\u001b[0m\n\u001b[0m\u001b[1;32m      3\u001b[0m \u001b[0mdescricoes_por_valor_liquido\u001b[0m\u001b[0;34m[\u001b[0m\u001b[0;34m'diferenca'\u001b[0m\u001b[0;34m]\u001b[0m \u001b[0;34m=\u001b[0m \u001b[0mdescricoes_por_valor_liquido\u001b[0m\u001b[0;34m[\u001b[0m\u001b[0;34m'vlrLiquido'\u001b[0m\u001b[0;34m]\u001b[0m \u001b[0;34m-\u001b[0m \u001b[0mdescricoes_por_valor_liquido\u001b[0m\u001b[0;34m[\u001b[0m\u001b[0;34m'vlrDocumento'\u001b[0m\u001b[0;34m]\u001b[0m\u001b[0;34m\u001b[0m\u001b[0;34m\u001b[0m\u001b[0m\n\u001b[1;32m      4\u001b[0m \u001b[0mdescricoes_por_valor_liquido\u001b[0m\u001b[0;34m.\u001b[0m\u001b[0msort_values\u001b[0m\u001b[0;34m(\u001b[0m\u001b[0;34m'vlrLiquido'\u001b[0m\u001b[0;34m,\u001b[0m \u001b[0mascending\u001b[0m\u001b[0;34m=\u001b[0m\u001b[0;32mFalse\u001b[0m\u001b[0;34m)\u001b[0m\u001b[0;34m\u001b[0m\u001b[0;34m\u001b[0m\u001b[0m\n",
      "\u001b[0;31mNameError\u001b[0m: name 'df_dados_deputados' is not defined"
     ]
    }
   ],
   "source": [
    "# contagem das descrições de atividades que mais gastam com vlr liquido e valor documento\n",
    "descricoes_por_valor_liquido = df_dados_deputados.groupby('txtDescricao').sum()[['vlrLiquido', 'vlrDocumento']]\n",
    "descricoes_por_valor_liquido['diferenca'] = descricoes_por_valor_liquido['vlrLiquido'] - descricoes_por_valor_liquido['vlrDocumento']\n",
    "descricoes_por_valor_liquido.sort_values('vlrLiquido', ascending=False)"
   ]
  },
  {
   "cell_type": "code",
   "execution_count": null,
   "metadata": {},
   "outputs": [],
   "source": []
  }
 ],
 "metadata": {
  "kernelspec": {
   "display_name": "Python 3",
   "language": "python",
   "name": "python3"
  },
  "language_info": {
   "codemirror_mode": {
    "name": "ipython",
    "version": 3
   },
   "file_extension": ".py",
   "mimetype": "text/x-python",
   "name": "python",
   "nbconvert_exporter": "python",
   "pygments_lexer": "ipython3",
   "version": "3.6.9"
  }
 },
 "nbformat": 4,
 "nbformat_minor": 4
}
